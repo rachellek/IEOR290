{
 "cells": [
  {
   "cell_type": "markdown",
   "metadata": {},
   "source": [
    "# IEOR 290 Data-X: HW2 (Feb. 2, 2017)\n",
    "### Kresch, Rachelle | SID: 20022676"
   ]
  },
  {
   "cell_type": "markdown",
   "metadata": {},
   "source": [
    "## Problem 1: Numpy"
   ]
  },
  {
   "cell_type": "markdown",
   "metadata": {},
   "source": [
    "#1. Create\ttwo\tnumpy arrays (a and\tb).\ta should\tbe\tall\tintegers\tbetween\t10-19\t(inclusive), and b should\tbe\tten\tevenly\tspaced\tnumbers\tbetween\t1-7.\tPrint\tall\tthe\tresults\tbelow:"
   ]
  },
  {
   "cell_type": "code",
   "execution_count": 5,
   "metadata": {
    "collapsed": false
   },
   "outputs": [
    {
     "name": "stdout",
     "output_type": "stream",
     "text": [
      "[10 11 12 13 14 15 16 17 18 19]\n",
      "[ 1.          1.66666667  2.33333333  3.          3.66666667  4.33333333\n",
      "  5.          5.66666667  6.33333333  7.        ]\n"
     ]
    }
   ],
   "source": [
    "import numpy as np\n",
    "\n",
    "a=np.arange(10,20, 1)\n",
    "b=np.linspace(1,7,10)\n",
    "\n",
    "print(a)\n",
    "print(b)"
   ]
  },
  {
   "cell_type": "markdown",
   "metadata": {},
   "source": [
    "#1. Square\tall\tthe\telements\tin\tboth\tarrays\t(element-wise)"
   ]
  },
  {
   "cell_type": "code",
   "execution_count": 17,
   "metadata": {
    "collapsed": false
   },
   "outputs": [
    {
     "name": "stdout",
     "output_type": "stream",
     "text": [
      "[100 121 144 169 196 225 256 289 324 361]\n",
      "[  1.           2.77777778   5.44444444   9.          13.44444444\n",
      "  18.77777778  25.          32.11111111  40.11111111  49.        ]\n"
     ]
    }
   ],
   "source": [
    "a_new = np.square(a)\n",
    "b_new = np.square(b)\n",
    "\n",
    "print(a_new)\n",
    "print(b_new)"
   ]
  },
  {
   "cell_type": "markdown",
   "metadata": {},
   "source": [
    "#2. Add\tboth\tthe\tsquared\tarrays"
   ]
  },
  {
   "cell_type": "code",
   "execution_count": 8,
   "metadata": {
    "collapsed": false
   },
   "outputs": [
    {
     "name": "stdout",
     "output_type": "stream",
     "text": [
      "[ 101.          123.77777778  149.44444444  178.          209.44444444\n",
      "  243.77777778  281.          321.11111111  364.11111111  410.        ]\n"
     ]
    }
   ],
   "source": [
    "my_sums= a_new+b_new\n",
    "print(my_sums)"
   ]
  },
  {
   "cell_type": "markdown",
   "metadata": {},
   "source": [
    "#3. Sum\tthe\teven\telements\tof\tthe\tadded\tarray."
   ]
  },
  {
   "cell_type": "code",
   "execution_count": 9,
   "metadata": {
    "collapsed": false
   },
   "outputs": [
    {
     "name": "stdout",
     "output_type": "stream",
     "text": [
      "588.0\n"
     ]
    }
   ],
   "source": [
    "##Assume this means to add the even numbers in the list and not based on the index values\n",
    "\n",
    "evens = 0\n",
    "\n",
    "for i in range(1, len(my_sums)):    \n",
    "    if my_sums[i]%2==0:\n",
    "        evens = evens + my_sums[i]\n",
    "        \n",
    "print(evens)"
   ]
  },
  {
   "cell_type": "markdown",
   "metadata": {},
   "source": [
    "#4. Take\tthe\tsquare\troot\tof\tthe\tadded\tarray\t(element-wise\tsquare\troot)"
   ]
  },
  {
   "cell_type": "code",
   "execution_count": 10,
   "metadata": {
    "collapsed": false
   },
   "outputs": [
    {
     "name": "stdout",
     "output_type": "stream",
     "text": [
      "[ 10.04987562  11.12554618  12.22474721  13.34166406  14.47219556\n",
      "  15.61338457  16.76305461  17.91957341  19.08169571  20.24845673]\n"
     ]
    }
   ],
   "source": [
    "print(np.sqrt(my_sums))"
   ]
  },
  {
   "cell_type": "markdown",
   "metadata": {},
   "source": [
    "#2. Append\tb to\ta,\treshape\tthe\tappended\tarray\tso\tthat\tit\tis\ta\t5x4,\t2d\tarray\tand\tstore\tthe\tresults\tin\ta\tvariable\tcalled\tm.\tPrint\tm."
   ]
  },
  {
   "cell_type": "code",
   "execution_count": 12,
   "metadata": {
    "collapsed": false
   },
   "outputs": [
    {
     "name": "stdout",
     "output_type": "stream",
     "text": [
      "[[ 10.          11.          12.          13.        ]\n",
      " [ 14.          15.          16.          17.        ]\n",
      " [ 18.          19.           1.           1.66666667]\n",
      " [  2.33333333   3.           3.66666667   4.33333333]\n",
      " [  5.           5.66666667   6.33333333   7.        ]]\n"
     ]
    }
   ],
   "source": [
    "##Assume 5 by 4 means 5 rows and 4 columns\n",
    "m = np.reshape(np.append(a,b), (5,4))\n",
    "print(m)"
   ]
  },
  {
   "cell_type": "markdown",
   "metadata": {},
   "source": [
    "#3. Extract\tthe\tsecond\tand\tthe\tthird\tcolumn\tof\tthe\tm matrix.\tStore\tthe\tresulting\t5x2\tmatrix\tin\ta new\tvariable\tcalled\tm2.\tPrint\tm2."
   ]
  },
  {
   "cell_type": "code",
   "execution_count": 13,
   "metadata": {
    "collapsed": false
   },
   "outputs": [
    {
     "name": "stdout",
     "output_type": "stream",
     "text": [
      "[[ 11.          12.        ]\n",
      " [ 15.          16.        ]\n",
      " [ 19.           1.        ]\n",
      " [  3.           3.66666667]\n",
      " [  5.66666667   6.33333333]]\n"
     ]
    }
   ],
   "source": [
    "m2 = m[:,(1,2)]\n",
    "print(m2)"
   ]
  },
  {
   "cell_type": "markdown",
   "metadata": {},
   "source": [
    "#4. Take\tthe\tdot\tproduct\tof\tm2T and\tm\tstore\tthe\tresults\tin\ta\tmatrix\tcalled\tm3.\tPrint\tm3."
   ]
  },
  {
   "cell_type": "code",
   "execution_count": 14,
   "metadata": {
    "collapsed": false
   },
   "outputs": [
    {
     "name": "stdout",
     "output_type": "stream",
     "text": [
      "[[ 697.33333333  748.11111111  437.88888889  482.33333333]\n",
      " [ 402.22222222  437.88888889  454.55555556  489.88888889]]\n"
     ]
    }
   ],
   "source": [
    "m3 = np.dot(np.transpose(m2),m)\n",
    "print(m3)"
   ]
  },
  {
   "cell_type": "markdown",
   "metadata": {},
   "source": [
    "#5. Round\tthe\tm3 matrix\tto\ttwo\tdecimal\tpoints.\tStore\tthe\tresult\tin\tplace\tand\tprint\tthe\tnew\tm3."
   ]
  },
  {
   "cell_type": "code",
   "execution_count": 15,
   "metadata": {
    "collapsed": false
   },
   "outputs": [
    {
     "name": "stdout",
     "output_type": "stream",
     "text": [
      "[[ 697.33  748.11  437.89  482.33]\n",
      " [ 402.22  437.89  454.56  489.89]]\n"
     ]
    }
   ],
   "source": [
    "m3=np.round(m3,2)\n",
    "print(m3)"
   ]
  },
  {
   "cell_type": "markdown",
   "metadata": {},
   "source": [
    "#6. Sort\tthe\tm3 array\tso\tthat\tthe\thighest\tvalue\tis\tat\tthe\ttop\tleft,\tthe\tnext\thighest\tvalue\tto\tthe\tright\tof\tthe\thighest,\tand\tthe\tlowest\tvalue\tis\tat\tthe\tbottom\tright.\tPrint\tthe\tsorted\tm3\tarray"
   ]
  },
  {
   "cell_type": "code",
   "execution_count": 22,
   "metadata": {
    "collapsed": false
   },
   "outputs": [
    {
     "name": "stdout",
     "output_type": "stream",
     "text": [
      "[[ 748.11  697.33  489.89  482.33]\n",
      " [ 454.56  437.89  437.89  402.22]]\n"
     ]
    }
   ],
   "source": [
    "## Assume we want to keep m3's original shape\n",
    "temp = np.sort(m3,None)[::-1]\n",
    "m3 = np.reshape(temp,(2,4))\n",
    "print(m3)"
   ]
  }
 ],
 "metadata": {
  "anaconda-cloud": {},
  "kernelspec": {
   "display_name": "Python [default]",
   "language": "python",
   "name": "python3"
  },
  "language_info": {
   "codemirror_mode": {
    "name": "ipython",
    "version": 3
   },
   "file_extension": ".py",
   "mimetype": "text/x-python",
   "name": "python",
   "nbconvert_exporter": "python",
   "pygments_lexer": "ipython3",
   "version": "3.5.2"
  }
 },
 "nbformat": 4,
 "nbformat_minor": 1
}
